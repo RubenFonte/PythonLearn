{
 "cells": [
  {
   "cell_type": "markdown",
   "metadata": {},
   "source": [
    "# Python Pandas\n",
    "## 1 - Introduction to data structures\n",
    "\n",
    "**Tool - pandas**\n",
    "\n",
    "Library that provides high level data structures and functions designed to work with tabular data. The main data structure is the `DataFrame`, which can be viewed as a in-memory 2D table (like a spreadsheet with rows and columns). Usefull features are:\n",
    "* Availability of features similar to excel (Pivot tables, compute columns based on other columns, etc...)\n",
    "* Group rows by value\n",
    "* Join tables like SQL\n",
    "\n",
    "[Official Documentation](https://pandas.pydata.org/pandas-docs/stable/index.html)\n",
    "\n",
    "Topics to be covered:\n",
    "* 1 - Object creation\n",
    "  * 1.1 - Series\n",
    "  * 1.2 - DataFrame\n",
    "* 2 - Explore object\n",
    "  * 2.1 - Data type `.dtypes`\n",
    "  * 2.2 - Data size `.shape`\n",
    "  * 2.3 - Descriptive statistics `.describe`\n",
    "* 3 - Export DataFrame\n",
    "  * 3.1 - Write to `.xlsx` format\n",
    "    * 3.1.1 - Single tab\n",
    "    * 3.1.2 - Multiple tabs\n",
    "    * 3.1.3 - Save with a time stamp\n",
    "  * 3.2 - Write to `.csv`\n",
    "  * 3.3 - Save to `.zip`"
   ]
  },
  {
   "cell_type": "markdown",
   "metadata": {},
   "source": [
    "# 1 - Object Creation\n",
    "Two main *workhorse* to work with, data structures can typically be designated as `objects`:\n",
    "* 1 - `Series` - 1D array, \n",
    "* 2 - `DataFrame` - 2D table, similar to a spreadsheet\n",
    "\n",
    "## 1.1 - Series\n",
    "A one-dimensional array-like object with a sequence of values, a Series is a list."
   ]
  },
  {
   "cell_type": "code",
   "execution_count": 1,
   "metadata": {},
   "outputs": [],
   "source": [
    "import pandas as pd"
   ]
  },
  {
   "cell_type": "code",
   "execution_count": 2,
   "metadata": {},
   "outputs": [
    {
     "name": "stdout",
     "output_type": "stream",
     "text": [
      "0    23\n",
      "1    85\n",
      "2   -45\n",
      "3    32\n",
      "dtype: int64\n"
     ]
    }
   ],
   "source": [
    "bps = pd.Series([23, 85, -45, 32])\n",
    "print(bps)"
   ]
  },
  {
   "cell_type": "markdown",
   "metadata": {},
   "source": [
    "Bellow write same list, this time include dates in indice.\n",
    "\n",
    "**Index labels**\n",
    "\n",
    "Alternative to below code:\n",
    "```pyton\n",
    "pd.Series({'3 Aug': 23 , \n",
    "           '4 Aug': 85, \n",
    "           '5 Aug': -45, \n",
    "           '6 Aug': 32})\n",
    "```\n"
   ]
  },
  {
   "cell_type": "markdown",
   "metadata": {},
   "source": [
    "ibps = pd.Series([23, 85, -45, 32], \n",
    "                 index = ['3 Aug', '4 Aug', '5 Aug', '6 Aug'])\n",
    "print(ibps)"
   ]
  },
  {
   "cell_type": "markdown",
   "metadata": {},
   "source": [
    "Create a list of string object, and name list as `fruit`"
   ]
  },
  {
   "cell_type": "code",
   "execution_count": 3,
   "metadata": {},
   "outputs": [
    {
     "name": "stdout",
     "output_type": "stream",
     "text": [
      "0     Apple\n",
      "1    Banana\n",
      "2    Orange\n",
      "3     Melon\n",
      "Name: fruit, dtype: object\n"
     ]
    }
   ],
   "source": [
    "Fruit = pd.Series(['Apple', 'Banana', 'Orange', 'Melon'], \n",
    "                 name = 'fruit')\n",
    "print(Fruit)"
   ]
  },
  {
   "cell_type": "markdown",
   "metadata": {},
   "source": [
    "## 1.2 - DataFrame\n",
    "Represents a rectangular table of data, that contains an ordered collection of columns, that can be of different types (numeric, string, bolean, etc.). It is most typically two dimensional."
   ]
  },
  {
   "cell_type": "code",
   "execution_count": 4,
   "metadata": {},
   "outputs": [
    {
     "data": {
      "text/html": [
       "<div>\n",
       "<style scoped>\n",
       "    .dataframe tbody tr th:only-of-type {\n",
       "        vertical-align: middle;\n",
       "    }\n",
       "\n",
       "    .dataframe tbody tr th {\n",
       "        vertical-align: top;\n",
       "    }\n",
       "\n",
       "    .dataframe thead th {\n",
       "        text-align: right;\n",
       "    }\n",
       "</style>\n",
       "<table border=\"1\" class=\"dataframe\">\n",
       "  <thead>\n",
       "    <tr style=\"text-align: right;\">\n",
       "      <th></th>\n",
       "      <th>Country</th>\n",
       "      <th>SovereignDebt</th>\n",
       "    </tr>\n",
       "  </thead>\n",
       "  <tbody>\n",
       "    <tr>\n",
       "      <th>0</th>\n",
       "      <td>Portugal</td>\n",
       "      <td>127.7</td>\n",
       "    </tr>\n",
       "    <tr>\n",
       "      <th>1</th>\n",
       "      <td>Poland</td>\n",
       "      <td>46.2</td>\n",
       "    </tr>\n",
       "    <tr>\n",
       "      <th>2</th>\n",
       "      <td>Germany</td>\n",
       "      <td>64.1</td>\n",
       "    </tr>\n",
       "    <tr>\n",
       "      <th>3</th>\n",
       "      <td>United Kingdom</td>\n",
       "      <td>87</td>\n",
       "    </tr>\n",
       "    <tr>\n",
       "      <th>4</th>\n",
       "      <td>France</td>\n",
       "      <td>98.5</td>\n",
       "    </tr>\n",
       "    <tr>\n",
       "      <th>5</th>\n",
       "      <td>Spain</td>\n",
       "      <td>96.7</td>\n",
       "    </tr>\n",
       "  </tbody>\n",
       "</table>\n",
       "</div>"
      ],
      "text/plain": [
       "          Country SovereignDebt\n",
       "0        Portugal         127.7\n",
       "1          Poland          46.2\n",
       "2         Germany          64.1\n",
       "3  United Kingdom            87\n",
       "4          France          98.5\n",
       "5           Spain          96.7"
      ]
     },
     "execution_count": 4,
     "metadata": {},
     "output_type": "execute_result"
    }
   ],
   "source": [
    "Countries = pd.DataFrame({'Country':       ['Portugal', 'Poland', 'Germany', 'United Kingdom', 'France', 'Spain'],\n",
    "                          'SovereignDebt': ['127.7',    '46.2',   '64.1',    '87',             '98.5',   '96.7']\n",
    "                         })\n",
    "Countries"
   ]
  },
  {
   "cell_type": "markdown",
   "metadata": {},
   "source": [
    "Create **Index** with funds"
   ]
  },
  {
   "cell_type": "code",
   "execution_count": 5,
   "metadata": {},
   "outputs": [
    {
     "data": {
      "text/html": [
       "<div>\n",
       "<style scoped>\n",
       "    .dataframe tbody tr th:only-of-type {\n",
       "        vertical-align: middle;\n",
       "    }\n",
       "\n",
       "    .dataframe tbody tr th {\n",
       "        vertical-align: top;\n",
       "    }\n",
       "\n",
       "    .dataframe thead th {\n",
       "        text-align: right;\n",
       "    }\n",
       "</style>\n",
       "<table border=\"1\" class=\"dataframe\">\n",
       "  <thead>\n",
       "    <tr style=\"text-align: right;\">\n",
       "      <th></th>\n",
       "      <th>NPV</th>\n",
       "      <th>NAV</th>\n",
       "    </tr>\n",
       "  </thead>\n",
       "  <tbody>\n",
       "    <tr>\n",
       "      <th>Fund A</th>\n",
       "      <td>105</td>\n",
       "      <td>102</td>\n",
       "    </tr>\n",
       "    <tr>\n",
       "      <th>Fund B</th>\n",
       "      <td>67</td>\n",
       "      <td>68</td>\n",
       "    </tr>\n",
       "  </tbody>\n",
       "</table>\n",
       "</div>"
      ],
      "text/plain": [
       "        NPV  NAV\n",
       "Fund A  105  102\n",
       "Fund B   67   68"
      ]
     },
     "execution_count": 5,
     "metadata": {},
     "output_type": "execute_result"
    }
   ],
   "source": [
    "pd.DataFrame({'NPV': [105, 67],\n",
    "              'NAV': [102, 68]},\n",
    "             index = ['Fund A', 'Fund B'])"
   ]
  },
  {
   "cell_type": "markdown",
   "metadata": {},
   "source": [
    "# Data Structures - Reading\n",
    "## Reading from `.csv`\n",
    "Read data from a `.csv` file. Use formula `pd.read_csv()`."
   ]
  },
  {
   "cell_type": "code",
   "execution_count": 6,
   "metadata": {},
   "outputs": [
    {
     "data": {
      "text/html": [
       "<div>\n",
       "<style scoped>\n",
       "    .dataframe tbody tr th:only-of-type {\n",
       "        vertical-align: middle;\n",
       "    }\n",
       "\n",
       "    .dataframe tbody tr th {\n",
       "        vertical-align: top;\n",
       "    }\n",
       "\n",
       "    .dataframe thead th {\n",
       "        text-align: right;\n",
       "    }\n",
       "</style>\n",
       "<table border=\"1\" class=\"dataframe\">\n",
       "  <thead>\n",
       "    <tr style=\"text-align: right;\">\n",
       "      <th></th>\n",
       "      <th>Fund</th>\n",
       "      <th>NPV</th>\n",
       "      <th>Market Value</th>\n",
       "      <th>Fund NAV</th>\n",
       "    </tr>\n",
       "  </thead>\n",
       "  <tbody>\n",
       "    <tr>\n",
       "      <th>0</th>\n",
       "      <td>Fund A</td>\n",
       "      <td>11.85</td>\n",
       "      <td>11.85</td>\n",
       "      <td>10.00</td>\n",
       "    </tr>\n",
       "    <tr>\n",
       "      <th>1</th>\n",
       "      <td>Fund B</td>\n",
       "      <td>7.29</td>\n",
       "      <td>7.29</td>\n",
       "      <td>7.10</td>\n",
       "    </tr>\n",
       "    <tr>\n",
       "      <th>2</th>\n",
       "      <td>Fund C</td>\n",
       "      <td>2.25</td>\n",
       "      <td>2.25</td>\n",
       "      <td>2.19</td>\n",
       "    </tr>\n",
       "    <tr>\n",
       "      <th>3</th>\n",
       "      <td>Fund D</td>\n",
       "      <td>5.15</td>\n",
       "      <td>5.15</td>\n",
       "      <td>5.07</td>\n",
       "    </tr>\n",
       "    <tr>\n",
       "      <th>4</th>\n",
       "      <td>Fund E</td>\n",
       "      <td>2352.82</td>\n",
       "      <td>2319.32</td>\n",
       "      <td>2333.72</td>\n",
       "    </tr>\n",
       "    <tr>\n",
       "      <th>5</th>\n",
       "      <td>Fund F</td>\n",
       "      <td>40.08</td>\n",
       "      <td>40.07</td>\n",
       "      <td>39.83</td>\n",
       "    </tr>\n",
       "    <tr>\n",
       "      <th>6</th>\n",
       "      <td>Fund H</td>\n",
       "      <td>307.36</td>\n",
       "      <td>303.47</td>\n",
       "      <td>305.55</td>\n",
       "    </tr>\n",
       "    <tr>\n",
       "      <th>7</th>\n",
       "      <td>Fund I</td>\n",
       "      <td>80.42</td>\n",
       "      <td>80.42</td>\n",
       "      <td>80.03</td>\n",
       "    </tr>\n",
       "    <tr>\n",
       "      <th>8</th>\n",
       "      <td>Fund J</td>\n",
       "      <td>178.83</td>\n",
       "      <td>178.82</td>\n",
       "      <td>178.09</td>\n",
       "    </tr>\n",
       "    <tr>\n",
       "      <th>9</th>\n",
       "      <td>Fund K</td>\n",
       "      <td>29.14</td>\n",
       "      <td>29.13</td>\n",
       "      <td>29.03</td>\n",
       "    </tr>\n",
       "    <tr>\n",
       "      <th>10</th>\n",
       "      <td>Fund L</td>\n",
       "      <td>79.68</td>\n",
       "      <td>78.85</td>\n",
       "      <td>79.45</td>\n",
       "    </tr>\n",
       "    <tr>\n",
       "      <th>11</th>\n",
       "      <td>Fund M</td>\n",
       "      <td>472.47</td>\n",
       "      <td>472.46</td>\n",
       "      <td>471.19</td>\n",
       "    </tr>\n",
       "    <tr>\n",
       "      <th>12</th>\n",
       "      <td>Fund N</td>\n",
       "      <td>2.19</td>\n",
       "      <td>2.19</td>\n",
       "      <td>2.19</td>\n",
       "    </tr>\n",
       "    <tr>\n",
       "      <th>13</th>\n",
       "      <td>Fund O</td>\n",
       "      <td>2.18</td>\n",
       "      <td>2.18</td>\n",
       "      <td>2.18</td>\n",
       "    </tr>\n",
       "    <tr>\n",
       "      <th>14</th>\n",
       "      <td>Fund P</td>\n",
       "      <td>429.77</td>\n",
       "      <td>426.83</td>\n",
       "      <td>430.23</td>\n",
       "    </tr>\n",
       "    <tr>\n",
       "      <th>15</th>\n",
       "      <td>Fund Q</td>\n",
       "      <td>943.55</td>\n",
       "      <td>943.54</td>\n",
       "      <td>945.33</td>\n",
       "    </tr>\n",
       "    <tr>\n",
       "      <th>16</th>\n",
       "      <td>Fund R</td>\n",
       "      <td>4.67</td>\n",
       "      <td>4.67</td>\n",
       "      <td>4.70</td>\n",
       "    </tr>\n",
       "    <tr>\n",
       "      <th>17</th>\n",
       "      <td>Fund S</td>\n",
       "      <td>610.68</td>\n",
       "      <td>610.69</td>\n",
       "      <td>613.99</td>\n",
       "    </tr>\n",
       "    <tr>\n",
       "      <th>18</th>\n",
       "      <td>Fund T</td>\n",
       "      <td>909.71</td>\n",
       "      <td>909.70</td>\n",
       "      <td>915.04</td>\n",
       "    </tr>\n",
       "    <tr>\n",
       "      <th>19</th>\n",
       "      <td>Fund U</td>\n",
       "      <td>21.03</td>\n",
       "      <td>20.86</td>\n",
       "      <td>21.66</td>\n",
       "    </tr>\n",
       "    <tr>\n",
       "      <th>20</th>\n",
       "      <td>Fund V</td>\n",
       "      <td>21.92</td>\n",
       "      <td>21.84</td>\n",
       "      <td>47.23</td>\n",
       "    </tr>\n",
       "  </tbody>\n",
       "</table>\n",
       "</div>"
      ],
      "text/plain": [
       "      Fund      NPV  Market Value  Fund NAV\n",
       "0   Fund A    11.85         11.85     10.00\n",
       "1   Fund B     7.29          7.29      7.10\n",
       "2   Fund C     2.25          2.25      2.19\n",
       "3   Fund D     5.15          5.15      5.07\n",
       "4   Fund E  2352.82       2319.32   2333.72\n",
       "5   Fund F    40.08         40.07     39.83\n",
       "6   Fund H   307.36        303.47    305.55\n",
       "7   Fund I    80.42         80.42     80.03\n",
       "8   Fund J   178.83        178.82    178.09\n",
       "9   Fund K    29.14         29.13     29.03\n",
       "10  Fund L    79.68         78.85     79.45\n",
       "11  Fund M   472.47        472.46    471.19\n",
       "12  Fund N     2.19          2.19      2.19\n",
       "13  Fund O     2.18          2.18      2.18\n",
       "14  Fund P   429.77        426.83    430.23\n",
       "15  Fund Q   943.55        943.54    945.33\n",
       "16  Fund R     4.67          4.67      4.70\n",
       "17  Fund S   610.68        610.69    613.99\n",
       "18  Fund T   909.71        909.70    915.04\n",
       "19  Fund U    21.03         20.86     21.66\n",
       "20  Fund V    21.92         21.84     47.23"
      ]
     },
     "execution_count": 6,
     "metadata": {},
     "output_type": "execute_result"
    }
   ],
   "source": [
    "pd.read_csv(\"Market.csv\")"
   ]
  },
  {
   "cell_type": "markdown",
   "metadata": {},
   "source": [
    "**Index** the `Fund` column\n",
    "\n",
    "Alternative to below code:\n",
    "```python\n",
    "    pd.read_csv(\"Market.csv\", index_col = 0, header = 0)```\n"
   ]
  },
  {
   "cell_type": "code",
   "execution_count": 7,
   "metadata": {},
   "outputs": [
    {
     "data": {
      "text/html": [
       "<div>\n",
       "<style scoped>\n",
       "    .dataframe tbody tr th:only-of-type {\n",
       "        vertical-align: middle;\n",
       "    }\n",
       "\n",
       "    .dataframe tbody tr th {\n",
       "        vertical-align: top;\n",
       "    }\n",
       "\n",
       "    .dataframe thead th {\n",
       "        text-align: right;\n",
       "    }\n",
       "</style>\n",
       "<table border=\"1\" class=\"dataframe\">\n",
       "  <thead>\n",
       "    <tr style=\"text-align: right;\">\n",
       "      <th></th>\n",
       "      <th>NPV</th>\n",
       "      <th>Market Value</th>\n",
       "      <th>Fund NAV</th>\n",
       "    </tr>\n",
       "    <tr>\n",
       "      <th>Fund</th>\n",
       "      <th></th>\n",
       "      <th></th>\n",
       "      <th></th>\n",
       "    </tr>\n",
       "  </thead>\n",
       "  <tbody>\n",
       "    <tr>\n",
       "      <th>Fund A</th>\n",
       "      <td>11.85</td>\n",
       "      <td>11.85</td>\n",
       "      <td>10.00</td>\n",
       "    </tr>\n",
       "    <tr>\n",
       "      <th>Fund B</th>\n",
       "      <td>7.29</td>\n",
       "      <td>7.29</td>\n",
       "      <td>7.10</td>\n",
       "    </tr>\n",
       "    <tr>\n",
       "      <th>Fund C</th>\n",
       "      <td>2.25</td>\n",
       "      <td>2.25</td>\n",
       "      <td>2.19</td>\n",
       "    </tr>\n",
       "    <tr>\n",
       "      <th>Fund D</th>\n",
       "      <td>5.15</td>\n",
       "      <td>5.15</td>\n",
       "      <td>5.07</td>\n",
       "    </tr>\n",
       "    <tr>\n",
       "      <th>Fund E</th>\n",
       "      <td>2352.82</td>\n",
       "      <td>2319.32</td>\n",
       "      <td>2333.72</td>\n",
       "    </tr>\n",
       "    <tr>\n",
       "      <th>Fund F</th>\n",
       "      <td>40.08</td>\n",
       "      <td>40.07</td>\n",
       "      <td>39.83</td>\n",
       "    </tr>\n",
       "    <tr>\n",
       "      <th>Fund H</th>\n",
       "      <td>307.36</td>\n",
       "      <td>303.47</td>\n",
       "      <td>305.55</td>\n",
       "    </tr>\n",
       "    <tr>\n",
       "      <th>Fund I</th>\n",
       "      <td>80.42</td>\n",
       "      <td>80.42</td>\n",
       "      <td>80.03</td>\n",
       "    </tr>\n",
       "    <tr>\n",
       "      <th>Fund J</th>\n",
       "      <td>178.83</td>\n",
       "      <td>178.82</td>\n",
       "      <td>178.09</td>\n",
       "    </tr>\n",
       "    <tr>\n",
       "      <th>Fund K</th>\n",
       "      <td>29.14</td>\n",
       "      <td>29.13</td>\n",
       "      <td>29.03</td>\n",
       "    </tr>\n",
       "    <tr>\n",
       "      <th>Fund L</th>\n",
       "      <td>79.68</td>\n",
       "      <td>78.85</td>\n",
       "      <td>79.45</td>\n",
       "    </tr>\n",
       "    <tr>\n",
       "      <th>Fund M</th>\n",
       "      <td>472.47</td>\n",
       "      <td>472.46</td>\n",
       "      <td>471.19</td>\n",
       "    </tr>\n",
       "    <tr>\n",
       "      <th>Fund N</th>\n",
       "      <td>2.19</td>\n",
       "      <td>2.19</td>\n",
       "      <td>2.19</td>\n",
       "    </tr>\n",
       "    <tr>\n",
       "      <th>Fund O</th>\n",
       "      <td>2.18</td>\n",
       "      <td>2.18</td>\n",
       "      <td>2.18</td>\n",
       "    </tr>\n",
       "    <tr>\n",
       "      <th>Fund P</th>\n",
       "      <td>429.77</td>\n",
       "      <td>426.83</td>\n",
       "      <td>430.23</td>\n",
       "    </tr>\n",
       "    <tr>\n",
       "      <th>Fund Q</th>\n",
       "      <td>943.55</td>\n",
       "      <td>943.54</td>\n",
       "      <td>945.33</td>\n",
       "    </tr>\n",
       "    <tr>\n",
       "      <th>Fund R</th>\n",
       "      <td>4.67</td>\n",
       "      <td>4.67</td>\n",
       "      <td>4.70</td>\n",
       "    </tr>\n",
       "    <tr>\n",
       "      <th>Fund S</th>\n",
       "      <td>610.68</td>\n",
       "      <td>610.69</td>\n",
       "      <td>613.99</td>\n",
       "    </tr>\n",
       "    <tr>\n",
       "      <th>Fund T</th>\n",
       "      <td>909.71</td>\n",
       "      <td>909.70</td>\n",
       "      <td>915.04</td>\n",
       "    </tr>\n",
       "    <tr>\n",
       "      <th>Fund U</th>\n",
       "      <td>21.03</td>\n",
       "      <td>20.86</td>\n",
       "      <td>21.66</td>\n",
       "    </tr>\n",
       "    <tr>\n",
       "      <th>Fund V</th>\n",
       "      <td>21.92</td>\n",
       "      <td>21.84</td>\n",
       "      <td>47.23</td>\n",
       "    </tr>\n",
       "  </tbody>\n",
       "</table>\n",
       "</div>"
      ],
      "text/plain": [
       "            NPV  Market Value  Fund NAV\n",
       "Fund                                   \n",
       "Fund A    11.85         11.85     10.00\n",
       "Fund B     7.29          7.29      7.10\n",
       "Fund C     2.25          2.25      2.19\n",
       "Fund D     5.15          5.15      5.07\n",
       "Fund E  2352.82       2319.32   2333.72\n",
       "Fund F    40.08         40.07     39.83\n",
       "Fund H   307.36        303.47    305.55\n",
       "Fund I    80.42         80.42     80.03\n",
       "Fund J   178.83        178.82    178.09\n",
       "Fund K    29.14         29.13     29.03\n",
       "Fund L    79.68         78.85     79.45\n",
       "Fund M   472.47        472.46    471.19\n",
       "Fund N     2.19          2.19      2.19\n",
       "Fund O     2.18          2.18      2.18\n",
       "Fund P   429.77        426.83    430.23\n",
       "Fund Q   943.55        943.54    945.33\n",
       "Fund R     4.67          4.67      4.70\n",
       "Fund S   610.68        610.69    613.99\n",
       "Fund T   909.71        909.70    915.04\n",
       "Fund U    21.03         20.86     21.66\n",
       "Fund V    21.92         21.84     47.23"
      ]
     },
     "execution_count": 7,
     "metadata": {},
     "output_type": "execute_result"
    }
   ],
   "source": [
    "pd.read_csv(\"Market.csv\", index_col = 'Fund')"
   ]
  },
  {
   "cell_type": "markdown",
   "metadata": {},
   "source": [
    "`pd.read_csv` can also be used to read `.txt` files"
   ]
  },
  {
   "cell_type": "markdown",
   "metadata": {},
   "source": [
    "## Reading from `.xlsx` file\n",
    "\n",
    "```python\n",
    "pd.read_excel```\n",
    "\n",
    "Below code it is specified the table to be from 'sheet1', index set to be 'Country' column i.e. column = 0, and data frame named as Countries. "
   ]
  },
  {
   "cell_type": "code",
   "execution_count": 8,
   "metadata": {},
   "outputs": [
    {
     "data": {
      "text/html": [
       "<div>\n",
       "<style scoped>\n",
       "    .dataframe tbody tr th:only-of-type {\n",
       "        vertical-align: middle;\n",
       "    }\n",
       "\n",
       "    .dataframe tbody tr th {\n",
       "        vertical-align: top;\n",
       "    }\n",
       "\n",
       "    .dataframe thead th {\n",
       "        text-align: right;\n",
       "    }\n",
       "</style>\n",
       "<table border=\"1\" class=\"dataframe\">\n",
       "  <thead>\n",
       "    <tr style=\"text-align: right;\">\n",
       "      <th></th>\n",
       "      <th>European_Region</th>\n",
       "      <th>GDPperCapita(PPP)</th>\n",
       "      <th>Population_Millions</th>\n",
       "    </tr>\n",
       "    <tr>\n",
       "      <th>Country</th>\n",
       "      <th></th>\n",
       "      <th></th>\n",
       "      <th></th>\n",
       "    </tr>\n",
       "  </thead>\n",
       "  <tbody>\n",
       "    <tr>\n",
       "      <th>Portugal</th>\n",
       "      <td>Southern</td>\n",
       "      <td>33.4</td>\n",
       "      <td>10.3</td>\n",
       "    </tr>\n",
       "    <tr>\n",
       "      <th>Poland</th>\n",
       "      <td>Eastern</td>\n",
       "      <td>33.5</td>\n",
       "      <td>38.4</td>\n",
       "    </tr>\n",
       "    <tr>\n",
       "      <th>Germany</th>\n",
       "      <td>Western</td>\n",
       "      <td>55.0</td>\n",
       "      <td>82.9</td>\n",
       "    </tr>\n",
       "    <tr>\n",
       "      <th>United Kingdom</th>\n",
       "      <td>Northern</td>\n",
       "      <td>47.0</td>\n",
       "      <td>66.4</td>\n",
       "    </tr>\n",
       "    <tr>\n",
       "      <th>France</th>\n",
       "      <td>Western</td>\n",
       "      <td>47.1</td>\n",
       "      <td>67.3</td>\n",
       "    </tr>\n",
       "    <tr>\n",
       "      <th>Spain</th>\n",
       "      <td>Southern</td>\n",
       "      <td>42.1</td>\n",
       "      <td>46.8</td>\n",
       "    </tr>\n",
       "    <tr>\n",
       "      <th>Italy</th>\n",
       "      <td>Southern</td>\n",
       "      <td>40.7</td>\n",
       "      <td>60.5</td>\n",
       "    </tr>\n",
       "    <tr>\n",
       "      <th>Belgium</th>\n",
       "      <td>Western</td>\n",
       "      <td>49.7</td>\n",
       "      <td>11.5</td>\n",
       "    </tr>\n",
       "    <tr>\n",
       "      <th>Norway</th>\n",
       "      <td>Northern</td>\n",
       "      <td>76.6</td>\n",
       "      <td>5.4</td>\n",
       "    </tr>\n",
       "    <tr>\n",
       "      <th>Switzerland</th>\n",
       "      <td>Western</td>\n",
       "      <td>66.8</td>\n",
       "      <td>8.6</td>\n",
       "    </tr>\n",
       "    <tr>\n",
       "      <th>Azerbaijan</th>\n",
       "      <td>Eastern</td>\n",
       "      <td>18.8</td>\n",
       "      <td>9.9</td>\n",
       "    </tr>\n",
       "  </tbody>\n",
       "</table>\n",
       "</div>"
      ],
      "text/plain": [
       "               European_Region  GDPperCapita(PPP)  Population_Millions\n",
       "Country                                                               \n",
       "Portugal              Southern               33.4                 10.3\n",
       "Poland                 Eastern               33.5                 38.4\n",
       "Germany                Western               55.0                 82.9\n",
       "United Kingdom        Northern               47.0                 66.4\n",
       "France                 Western               47.1                 67.3\n",
       "Spain                 Southern               42.1                 46.8\n",
       "Italy                 Southern               40.7                 60.5\n",
       "Belgium                Western               49.7                 11.5\n",
       "Norway                Northern               76.6                  5.4\n",
       "Switzerland            Western               66.8                  8.6\n",
       "Azerbaijan             Eastern               18.8                  9.9"
      ]
     },
     "execution_count": 8,
     "metadata": {},
     "output_type": "execute_result"
    }
   ],
   "source": [
    "Countries = pd.read_excel('Countries.xlsx', sheet_name = 'Sheet1', \n",
    "              index_col = 0)\n",
    "Countries"
   ]
  },
  {
   "cell_type": "markdown",
   "metadata": {},
   "source": [
    "# 2 - Object exploration\n",
    "## 2.1 - Data type\n",
    "Explore the type of data on the different observations, on whether it is numeric, string, category, etc. Use function`.dtypes`. In this case DataFrame Countries will be used"
   ]
  },
  {
   "cell_type": "code",
   "execution_count": 9,
   "metadata": {},
   "outputs": [
    {
     "data": {
      "text/plain": [
       "European_Region         object\n",
       "GDPperCapita(PPP)      float64\n",
       "Population_Millions    float64\n",
       "dtype: object"
      ]
     },
     "execution_count": 9,
     "metadata": {},
     "output_type": "execute_result"
    }
   ],
   "source": [
    "Countries.dtypes"
   ]
  },
  {
   "cell_type": "markdown",
   "metadata": {},
   "source": [
    "## 2.2 - Data Shape\n",
    "Tells me how many columns and rows are there in the DataFrame. Function `.shape`. ```python (11, 3)``` referes to 11 rows and 3 columns.\n",
    "\n",
    "**Question:** Why 3 columns and not 4?"
   ]
  },
  {
   "cell_type": "code",
   "execution_count": 10,
   "metadata": {},
   "outputs": [
    {
     "data": {
      "text/plain": [
       "(11, 3)"
      ]
     },
     "execution_count": 10,
     "metadata": {},
     "output_type": "execute_result"
    }
   ],
   "source": [
    "Countries.shape"
   ]
  },
  {
   "cell_type": "markdown",
   "metadata": {},
   "source": [
    "## 2.3 - Describe data\n",
    "Function `.describe()` provides a statistical summary of the data "
   ]
  },
  {
   "cell_type": "code",
   "execution_count": 11,
   "metadata": {},
   "outputs": [
    {
     "data": {
      "text/html": [
       "<div>\n",
       "<style scoped>\n",
       "    .dataframe tbody tr th:only-of-type {\n",
       "        vertical-align: middle;\n",
       "    }\n",
       "\n",
       "    .dataframe tbody tr th {\n",
       "        vertical-align: top;\n",
       "    }\n",
       "\n",
       "    .dataframe thead th {\n",
       "        text-align: right;\n",
       "    }\n",
       "</style>\n",
       "<table border=\"1\" class=\"dataframe\">\n",
       "  <thead>\n",
       "    <tr style=\"text-align: right;\">\n",
       "      <th></th>\n",
       "      <th>GDPperCapita(PPP)</th>\n",
       "      <th>Population_Millions</th>\n",
       "    </tr>\n",
       "  </thead>\n",
       "  <tbody>\n",
       "    <tr>\n",
       "      <th>count</th>\n",
       "      <td>11.000000</td>\n",
       "      <td>11.000000</td>\n",
       "    </tr>\n",
       "    <tr>\n",
       "      <th>mean</th>\n",
       "      <td>46.427273</td>\n",
       "      <td>37.090909</td>\n",
       "    </tr>\n",
       "    <tr>\n",
       "      <th>std</th>\n",
       "      <td>16.006379</td>\n",
       "      <td>29.055273</td>\n",
       "    </tr>\n",
       "    <tr>\n",
       "      <th>min</th>\n",
       "      <td>18.800000</td>\n",
       "      <td>5.400000</td>\n",
       "    </tr>\n",
       "    <tr>\n",
       "      <th>25%</th>\n",
       "      <td>37.100000</td>\n",
       "      <td>10.100000</td>\n",
       "    </tr>\n",
       "    <tr>\n",
       "      <th>50%</th>\n",
       "      <td>47.000000</td>\n",
       "      <td>38.400000</td>\n",
       "    </tr>\n",
       "    <tr>\n",
       "      <th>75%</th>\n",
       "      <td>52.350000</td>\n",
       "      <td>63.450000</td>\n",
       "    </tr>\n",
       "    <tr>\n",
       "      <th>max</th>\n",
       "      <td>76.600000</td>\n",
       "      <td>82.900000</td>\n",
       "    </tr>\n",
       "  </tbody>\n",
       "</table>\n",
       "</div>"
      ],
      "text/plain": [
       "       GDPperCapita(PPP)  Population_Millions\n",
       "count          11.000000            11.000000\n",
       "mean           46.427273            37.090909\n",
       "std            16.006379            29.055273\n",
       "min            18.800000             5.400000\n",
       "25%            37.100000            10.100000\n",
       "50%            47.000000            38.400000\n",
       "75%            52.350000            63.450000\n",
       "max            76.600000            82.900000"
      ]
     },
     "execution_count": 11,
     "metadata": {},
     "output_type": "execute_result"
    }
   ],
   "source": [
    "Countries.describe()"
   ]
  },
  {
   "cell_type": "markdown",
   "metadata": {},
   "source": [
    "## 2.4 - Transpose DataFrame\n",
    "Function `.T` to tranpose columns to rows"
   ]
  },
  {
   "cell_type": "code",
   "execution_count": 12,
   "metadata": {},
   "outputs": [
    {
     "data": {
      "text/html": [
       "<div>\n",
       "<style scoped>\n",
       "    .dataframe tbody tr th:only-of-type {\n",
       "        vertical-align: middle;\n",
       "    }\n",
       "\n",
       "    .dataframe tbody tr th {\n",
       "        vertical-align: top;\n",
       "    }\n",
       "\n",
       "    .dataframe thead th {\n",
       "        text-align: right;\n",
       "    }\n",
       "</style>\n",
       "<table border=\"1\" class=\"dataframe\">\n",
       "  <thead>\n",
       "    <tr style=\"text-align: right;\">\n",
       "      <th>Country</th>\n",
       "      <th>Portugal</th>\n",
       "      <th>Poland</th>\n",
       "      <th>Germany</th>\n",
       "      <th>United Kingdom</th>\n",
       "      <th>France</th>\n",
       "      <th>Spain</th>\n",
       "      <th>Italy</th>\n",
       "      <th>Belgium</th>\n",
       "      <th>Norway</th>\n",
       "      <th>Switzerland</th>\n",
       "      <th>Azerbaijan</th>\n",
       "    </tr>\n",
       "  </thead>\n",
       "  <tbody>\n",
       "    <tr>\n",
       "      <th>European_Region</th>\n",
       "      <td>Southern</td>\n",
       "      <td>Eastern</td>\n",
       "      <td>Western</td>\n",
       "      <td>Northern</td>\n",
       "      <td>Western</td>\n",
       "      <td>Southern</td>\n",
       "      <td>Southern</td>\n",
       "      <td>Western</td>\n",
       "      <td>Northern</td>\n",
       "      <td>Western</td>\n",
       "      <td>Eastern</td>\n",
       "    </tr>\n",
       "    <tr>\n",
       "      <th>GDPperCapita(PPP)</th>\n",
       "      <td>33.4</td>\n",
       "      <td>33.5</td>\n",
       "      <td>55.0</td>\n",
       "      <td>47.0</td>\n",
       "      <td>47.1</td>\n",
       "      <td>42.1</td>\n",
       "      <td>40.7</td>\n",
       "      <td>49.7</td>\n",
       "      <td>76.6</td>\n",
       "      <td>66.8</td>\n",
       "      <td>18.8</td>\n",
       "    </tr>\n",
       "    <tr>\n",
       "      <th>Population_Millions</th>\n",
       "      <td>10.3</td>\n",
       "      <td>38.4</td>\n",
       "      <td>82.9</td>\n",
       "      <td>66.4</td>\n",
       "      <td>67.3</td>\n",
       "      <td>46.8</td>\n",
       "      <td>60.5</td>\n",
       "      <td>11.5</td>\n",
       "      <td>5.4</td>\n",
       "      <td>8.6</td>\n",
       "      <td>9.9</td>\n",
       "    </tr>\n",
       "  </tbody>\n",
       "</table>\n",
       "</div>"
      ],
      "text/plain": [
       "Country              Portugal   Poland  Germany United Kingdom   France  \\\n",
       "European_Region      Southern  Eastern  Western       Northern  Western   \n",
       "GDPperCapita(PPP)        33.4     33.5     55.0           47.0     47.1   \n",
       "Population_Millions      10.3     38.4     82.9           66.4     67.3   \n",
       "\n",
       "Country                 Spain     Italy  Belgium    Norway Switzerland  \\\n",
       "European_Region      Southern  Southern  Western  Northern     Western   \n",
       "GDPperCapita(PPP)        42.1      40.7     49.7      76.6        66.8   \n",
       "Population_Millions      46.8      60.5     11.5       5.4         8.6   \n",
       "\n",
       "Country             Azerbaijan  \n",
       "European_Region        Eastern  \n",
       "GDPperCapita(PPP)         18.8  \n",
       "Population_Millions        9.9  "
      ]
     },
     "execution_count": 12,
     "metadata": {},
     "output_type": "execute_result"
    }
   ],
   "source": [
    "Countries.T"
   ]
  },
  {
   "cell_type": "markdown",
   "metadata": {},
   "source": [
    "# 3 - Write a dataframe\n",
    "\n",
    "## 3.1 - Write to `.xlsx` file\n",
    "\n",
    "Use Formula `to_excel`\n",
    "\n",
    "### 3.1.1 - Single Tab"
   ]
  },
  {
   "cell_type": "code",
   "execution_count": 13,
   "metadata": {},
   "outputs": [],
   "source": [
    "with pd.ExcelWriter('SavedPython.xlsx') as writer:\n",
    "    Countries.to_excel(writer, sheet_name='Countries')"
   ]
  },
  {
   "cell_type": "markdown",
   "metadata": {},
   "source": [
    "### 3.1.2 - Multiple Tabs"
   ]
  },
  {
   "cell_type": "code",
   "execution_count": 14,
   "metadata": {},
   "outputs": [],
   "source": [
    "with pd.ExcelWriter('SavedPython.xlsx') as writer:\n",
    "    Countries.to_excel(writer, sheet_name='Countries')\n",
    "    Fruit.to_excel(writer, sheet_name='Fruit')"
   ]
  },
  {
   "cell_type": "markdown",
   "metadata": {},
   "source": [
    "### 3.1.3 - Save with Time Stamp"
   ]
  },
  {
   "cell_type": "code",
   "execution_count": 15,
   "metadata": {},
   "outputs": [
    {
     "name": "stdout",
     "output_type": "stream",
     "text": [
      "Excel file 'SavedPython_20250415_22-13-11.xlsx' created successfully.\n"
     ]
    }
   ],
   "source": [
    "from datetime import datetime\n",
    "\n",
    "current_time = datetime.now().strftime('%Y%m%d_%H-%M-%S')\n",
    "filename = f\"SavedPython_{current_time}.xlsx\"\n",
    "\n",
    "with pd.ExcelWriter(filename) as writer:\n",
    "    Countries.to_excel(writer, sheet_name='Days', index=False)\n",
    "\n",
    "print(f\"Excel file '{filename}' created successfully.\")"
   ]
  },
  {
   "cell_type": "markdown",
   "metadata": {},
   "source": [
    "## 3.2 - Write to `.csv`"
   ]
  },
  {
   "cell_type": "code",
   "execution_count": 16,
   "metadata": {},
   "outputs": [],
   "source": [
    "Countries.to_csv('SavedCountries.csv', index = 'False')"
   ]
  },
  {
   "cell_type": "markdown",
   "metadata": {},
   "source": [
    "## 3.3 - Save to `.zip`"
   ]
  },
  {
   "cell_type": "code",
   "execution_count": 17,
   "metadata": {},
   "outputs": [],
   "source": [
    "Countries.to_csv('SavedCountries.zip', \n",
    "                 index = 'False', \n",
    "                 compression = dict(method='zip', \n",
    "                                    archive_name='SavedCountries.csv')\n",
    "                )"
   ]
  }
 ],
 "metadata": {
  "kernelspec": {
   "display_name": "base",
   "language": "python",
   "name": "python3"
  },
  "language_info": {
   "codemirror_mode": {
    "name": "ipython",
    "version": 3
   },
   "file_extension": ".py",
   "mimetype": "text/x-python",
   "name": "python",
   "nbconvert_exporter": "python",
   "pygments_lexer": "ipython3",
   "version": "3.12.4"
  }
 },
 "nbformat": 4,
 "nbformat_minor": 4
}
