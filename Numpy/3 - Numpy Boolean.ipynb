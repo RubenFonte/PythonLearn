{
 "cells": [
  {
   "cell_type": "markdown",
   "metadata": {},
   "source": [
    "# Numpy - Python\n",
    "\n",
    "[Reference documentation](http://docs.scipy.org/doc/numpy/reference/index.html)\n",
    "\n",
    "### Table of Content\n",
    "* 1 - Boolean Indexing\n",
    "  * 1.1 - Selection\n",
    "    * 1.1.1 - Positive Condition\n",
    "    * 1.1.2 - Negative Condition\n",
    "     * 1.1.2.1 - Except Condition\n",
    "     * 1.1.2.2 - Negate Condition\n",
    "   * 1.1.3 - Multiple Boolean Conditions\n",
    "\n",
    "\n",
    "# 1 - Boolean Indexing\n",
    "\n",
    "Below it will be created two objects, that refer to a series of entries for 4 funds with negative and positive positions. The first object is a 1D array with the funds, the second object is a 2D array with the corresponding NPV and market value."
   ]
  },
  {
   "cell_type": "code",
   "execution_count": 1,
   "metadata": {},
   "outputs": [],
   "source": [
    "import numpy as np"
   ]
  },
  {
   "cell_type": "code",
   "execution_count": 2,
   "metadata": {},
   "outputs": [
    {
     "data": {
      "text/plain": [
       "array(['Fund A', 'Fund B', 'Fund C', 'Fund A', 'Fund C', 'Fund B',\n",
       "       'Fund B'], dtype='<U6')"
      ]
     },
     "execution_count": 2,
     "metadata": {},
     "output_type": "execute_result"
    }
   ],
   "source": [
    "Funds = np.array(['Fund A', 'Fund B', 'Fund C', 'Fund A', 'Fund C', 'Fund B', 'Fund B'])\n",
    "Values = np.array([[254.5, 254.2], \n",
    "                   [-235.9, -236.1],\n",
    "                   [619.96, 621.2], \n",
    "                   [123.9, 123.9],\n",
    "                   [-249.56, -248.78],\n",
    "                   [197.8, 197.8],\n",
    "                   [246.5, 246.5]\n",
    "                  ])\n",
    "Funds"
   ]
  },
  {
   "cell_type": "code",
   "execution_count": 3,
   "metadata": {},
   "outputs": [
    {
     "data": {
      "text/plain": [
       "array([[ 254.5 ,  254.2 ],\n",
       "       [-235.9 , -236.1 ],\n",
       "       [ 619.96,  621.2 ],\n",
       "       [ 123.9 ,  123.9 ],\n",
       "       [-249.56, -248.78],\n",
       "       [ 197.8 ,  197.8 ],\n",
       "       [ 246.5 ,  246.5 ]])"
      ]
     },
     "execution_count": 3,
     "metadata": {},
     "output_type": "execute_result"
    }
   ],
   "source": [
    "Values"
   ]
  },
  {
   "cell_type": "markdown",
   "metadata": {},
   "source": [
    "## 1.1 - Selection\n",
    "\n",
    "### 1.1.1 - Positive Condition\n",
    "Apply a filter only to the `Fund C` from `Funds` array for this puspose use the condition `== 'Fund B'`. This will return an array with `True` and `False`. This is a *Boolean*."
   ]
  },
  {
   "cell_type": "code",
   "execution_count": 4,
   "metadata": {},
   "outputs": [
    {
     "data": {
      "text/plain": [
       "array([False, False,  True, False,  True, False, False])"
      ]
     },
     "execution_count": 4,
     "metadata": {},
     "output_type": "execute_result"
    }
   ],
   "source": [
    "Funds == 'Fund C'"
   ]
  },
  {
   "cell_type": "markdown",
   "metadata": {},
   "source": [
    "##### Indexing the Boolean\n",
    "Apply the *boolean* results to the NPV and Market Value table. **Note:** The boolean indexing must be of the same length as the axis that is being indexed"
   ]
  },
  {
   "cell_type": "code",
   "execution_count": 5,
   "metadata": {},
   "outputs": [
    {
     "data": {
      "text/plain": [
       "array([[ 619.96,  621.2 ],\n",
       "       [-249.56, -248.78]])"
      ]
     },
     "execution_count": 5,
     "metadata": {},
     "output_type": "execute_result"
    }
   ],
   "source": [
    "Values[Funds == 'Fund C']"
   ]
  },
  {
   "cell_type": "markdown",
   "metadata": {},
   "source": [
    "### 1.1.2 - Negative condition\n",
    "To select all Funds except for `Fund C` one can use either `!= 'Fund C'` or the negate condition `~`\n",
    "#### 1.1.2.1 - Except Condition"
   ]
  },
  {
   "cell_type": "code",
   "execution_count": 6,
   "metadata": {},
   "outputs": [
    {
     "data": {
      "text/plain": [
       "array([ True,  True, False,  True, False,  True,  True])"
      ]
     },
     "execution_count": 6,
     "metadata": {},
     "output_type": "execute_result"
    }
   ],
   "source": [
    "Funds != 'Fund C'"
   ]
  },
  {
   "cell_type": "code",
   "execution_count": 7,
   "metadata": {},
   "outputs": [
    {
     "data": {
      "text/plain": [
       "array([[ 254.5,  254.2],\n",
       "       [-235.9, -236.1],\n",
       "       [ 123.9,  123.9],\n",
       "       [ 197.8,  197.8],\n",
       "       [ 246.5,  246.5]])"
      ]
     },
     "execution_count": 7,
     "metadata": {},
     "output_type": "execute_result"
    }
   ],
   "source": [
    "Values[Funds != 'Fund C']"
   ]
  },
  {
   "cell_type": "markdown",
   "metadata": {},
   "source": [
    "#### 1.1.2.2 - Negate Condition\n",
    "Negate condition is an alternative way to achieve the result presented above."
   ]
  },
  {
   "cell_type": "code",
   "execution_count": 8,
   "metadata": {},
   "outputs": [
    {
     "data": {
      "text/plain": [
       "array([[ 254.5,  254.2],\n",
       "       [-235.9, -236.1],\n",
       "       [ 123.9,  123.9],\n",
       "       [ 197.8,  197.8],\n",
       "       [ 246.5,  246.5]])"
      ]
     },
     "execution_count": 8,
     "metadata": {},
     "output_type": "execute_result"
    }
   ],
   "source": [
    "Values[~(Funds == 'Fund C')]"
   ]
  },
  {
   "cell_type": "markdown",
   "metadata": {},
   "source": [
    "### 1.1.3 - Multiple boolean conditions\n",
    "Use arithmetic operators like & (and) and | (or). Below example shows condition for `Fund A` or `Fund B`."
   ]
  },
  {
   "cell_type": "code",
   "execution_count": 9,
   "metadata": {},
   "outputs": [
    {
     "data": {
      "text/plain": [
       "array([ True,  True, False,  True, False,  True,  True])"
      ]
     },
     "execution_count": 9,
     "metadata": {},
     "output_type": "execute_result"
    }
   ],
   "source": [
    "(Funds == 'Fund A') | (Funds == 'Fund B')"
   ]
  },
  {
   "cell_type": "code",
   "execution_count": 10,
   "metadata": {},
   "outputs": [
    {
     "data": {
      "text/plain": [
       "array([ True,  True, False,  True, False,  True,  True])"
      ]
     },
     "execution_count": 10,
     "metadata": {},
     "output_type": "execute_result"
    }
   ],
   "source": [
    "mask = (Funds == 'Fund A') | (Funds == 'Fund B')\n",
    "mask"
   ]
  },
  {
   "cell_type": "code",
   "execution_count": 11,
   "metadata": {},
   "outputs": [
    {
     "data": {
      "text/plain": [
       "array(['Fund A', 'Fund B', 'Fund A', 'Fund B', 'Fund B'], dtype='<U6')"
      ]
     },
     "execution_count": 11,
     "metadata": {},
     "output_type": "execute_result"
    }
   ],
   "source": [
    "Funds[mask] "
   ]
  },
  {
   "cell_type": "code",
   "execution_count": 12,
   "metadata": {},
   "outputs": [
    {
     "data": {
      "text/plain": [
       "array([[ 254.5,  254.2],\n",
       "       [-235.9, -236.1],\n",
       "       [ 123.9,  123.9],\n",
       "       [ 197.8,  197.8],\n",
       "       [ 246.5,  246.5]])"
      ]
     },
     "execution_count": 12,
     "metadata": {},
     "output_type": "execute_result"
    }
   ],
   "source": [
    "Values[mask]"
   ]
  },
  {
   "cell_type": "code",
   "execution_count": null,
   "metadata": {},
   "outputs": [],
   "source": []
  }
 ],
 "metadata": {
  "kernelspec": {
   "display_name": "Python 3",
   "language": "python",
   "name": "python3"
  },
  "language_info": {
   "codemirror_mode": {
    "name": "ipython",
    "version": 3
   },
   "file_extension": ".py",
   "mimetype": "text/x-python",
   "name": "python",
   "nbconvert_exporter": "python",
   "pygments_lexer": "ipython3",
   "version": "3.7.6"
  }
 },
 "nbformat": 4,
 "nbformat_minor": 4
}
