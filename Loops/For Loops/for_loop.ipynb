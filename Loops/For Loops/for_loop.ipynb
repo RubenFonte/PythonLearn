{
 "cells": [
  {
   "cell_type": "markdown",
   "id": "112fccf2",
   "metadata": {},
   "source": [
    "## For Loop ##"
   ]
  }
 ],
 "metadata": {
  "language_info": {
   "name": "python"
  }
 },
 "nbformat": 4,
 "nbformat_minor": 5
}
