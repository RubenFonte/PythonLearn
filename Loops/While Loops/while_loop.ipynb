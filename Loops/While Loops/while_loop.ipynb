{
 "cells": [
  {
   "cell_type": "markdown",
   "id": "caed4993",
   "metadata": {},
   "source": [
    "## While Loop ##"
   ]
  }
 ],
 "metadata": {
  "language_info": {
   "name": "python"
  }
 },
 "nbformat": 4,
 "nbformat_minor": 5
}
